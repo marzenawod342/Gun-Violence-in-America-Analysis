{
 "cells": [
  {
   "cell_type": "markdown",
   "id": "b9f5effd-ae78-4d34-9a73-b326fbe78d80",
   "metadata": {},
   "source": [
    "### 01. Importing Libraries"
   ]
  },
  {
   "cell_type": "code",
   "execution_count": null,
   "id": "cad2d011-b8d9-4215-a470-0c51999f8aea",
   "metadata": {},
   "outputs": [],
   "source": [
    "import pandas as pd\n",
    "import numpy as np\n",
    "import os\n",
    "import matplotlib.pyplot as plt\n",
    "import seaborn as sns\n",
    "import scipy"
   ]
  },
  {
   "cell_type": "markdown",
   "id": "8f83e66b-7fc1-4583-bdba-f3889219a7c8",
   "metadata": {},
   "source": [
    "#### Import Data"
   ]
  },
  {
   "cell_type": "code",
   "execution_count": null,
   "id": "5a24ad89-7fdd-4987-ac0a-27c77afa8e6a",
   "metadata": {},
   "outputs": [],
   "source": [
    "# creating a path into a string variable\n",
    "path = r'C:\\Users\\marze\\Gun Violence'"
   ]
  },
  {
   "cell_type": "code",
   "execution_count": null,
   "id": "e5fc1776-9baa-4f30-9106-30a3a7f55449",
   "metadata": {},
   "outputs": [],
   "source": [
    "# importing the gun violence data\n",
    "df = pd.read_csv(os.path.join(path, '02 Data', 'Original Data', 'gun-violence-data_01-2013_03-2018.csv'))"
   ]
  },
  {
   "cell_type": "code",
   "execution_count": null,
   "id": "0d052e42-dab8-4c29-9736-11aea4da9306",
   "metadata": {},
   "outputs": [],
   "source": [
    "# checking dataframe\n",
    "df.head()"
   ]
  },
  {
   "cell_type": "code",
   "execution_count": null,
   "id": "74ea7536-8c92-4192-8899-97fd68f0422d",
   "metadata": {},
   "outputs": [],
   "source": [
    "df.shape"
   ]
  },
  {
   "cell_type": "markdown",
   "id": "e53ca793-a6e3-4957-b8dd-acad4813cfb8",
   "metadata": {},
   "source": [
    "### 02. Consistency Checks"
   ]
  },
  {
   "cell_type": "markdown",
   "id": "eeadfc0c-31de-4ec4-9632-9027d5ef8d7a",
   "metadata": {},
   "source": [
    "#### Missing Values"
   ]
  },
  {
   "cell_type": "code",
   "execution_count": null,
   "id": "96d8a04d-819a-4c6f-a3eb-9e0eca998d55",
   "metadata": {},
   "outputs": [],
   "source": [
    "# Checking for missing values in each column\n",
    "miss_values = df.isnull().sum()"
   ]
  },
  {
   "cell_type": "code",
   "execution_count": null,
   "id": "e969b495-965f-402f-8634-a7fc460d957b",
   "metadata": {},
   "outputs": [],
   "source": [
    "# Display the count of missing values for each column\n",
    "print(miss_values)"
   ]
  },
  {
   "cell_type": "markdown",
   "id": "d03abb97-9a0f-4afc-8f77-90ca071d9d93",
   "metadata": {},
   "source": [
    "###### We have quite a lot of missing values. There is investigation needed as to why there are so many missing values"
   ]
  },
  {
   "cell_type": "markdown",
   "id": "05787dce-cff2-482b-8a2f-b4c6149c752e",
   "metadata": {},
   "source": [
    "#### Duplicate rows"
   ]
  },
  {
   "cell_type": "code",
   "execution_count": null,
   "id": "90c0c78a-7b0b-47db-b722-63cf82ff2e7b",
   "metadata": {},
   "outputs": [],
   "source": [
    "# Check for duplicate rows\n",
    "dup_rows = df[df.duplicated()]\n",
    "print(\"Number of duplicate rows:\", len(dup_rows))"
   ]
  },
  {
   "cell_type": "markdown",
   "id": "562caf5a-7545-4aab-b451-8fca25f68865",
   "metadata": {},
   "source": [
    "#### Unique values"
   ]
  },
  {
   "cell_type": "code",
   "execution_count": null,
   "id": "7beb2db5-0430-42a6-b6d6-0a24ffaba914",
   "metadata": {},
   "outputs": [],
   "source": [
    "# Check for duplicates\n",
    "dups = df[df.duplicated()]\n",
    "\n",
    "# Print the duplicates\n",
    "print(\"Number of duplicates:\", len(dups))"
   ]
  },
  {
   "cell_type": "markdown",
   "id": "3d0ac5c6-86dd-4e10-ae74-cfa730aee4cb",
   "metadata": {},
   "source": [
    "#### Mixed Data Types"
   ]
  },
  {
   "cell_type": "code",
   "execution_count": null,
   "id": "8bd2b1ac-f81b-4662-b31f-ed359e655335",
   "metadata": {},
   "outputs": [],
   "source": [
    "# Checking for mixed-type data\n",
    "\n",
    "for col in df.columns.tolist():\n",
    "    weird = (df[[col]].map(type) != df[[col]].iloc[0].apply(type)).any(axis = 1)\n",
    "    if len (df[weird]) > 0:\n",
    "        print (col)"
   ]
  },
  {
   "cell_type": "markdown",
   "id": "1e8bb679-f357-4890-a103-fcc6123520fd",
   "metadata": {},
   "source": [
    "#### Checking numeric column statistics"
   ]
  },
  {
   "cell_type": "code",
   "execution_count": null,
   "id": "c4368118-9b85-49ab-af90-b4d5ab5a44c3",
   "metadata": {},
   "outputs": [],
   "source": [
    "# Summary statistics\n",
    "df.describe()"
   ]
  },
  {
   "cell_type": "code",
   "execution_count": null,
   "id": "dc6418f2-734b-43b8-981e-63f6f941cded",
   "metadata": {},
   "outputs": [],
   "source": [
    "# distribution of numeric columns\n",
    "df.hist(figsize=(12, 10))\n",
    "plt.show()"
   ]
  },
  {
   "cell_type": "markdown",
   "id": "3e51d8c7-3961-492a-9fd7-05dd69cc1f37",
   "metadata": {},
   "source": [
    "#### Non-numeric columns"
   ]
  },
  {
   "cell_type": "code",
   "execution_count": null,
   "id": "3ff7605c-d0ab-42cb-a3fd-728b76f40aa6",
   "metadata": {},
   "outputs": [],
   "source": [
    "# Checking unique values and counts for 'state' column\n",
    "state_counts = df['state'].value_counts()\n",
    "print(state_counts)"
   ]
  },
  {
   "cell_type": "markdown",
   "id": "d59eb772-aaac-4d6b-9482-468f8d4119ce",
   "metadata": {},
   "source": [
    "##### Illinois, California, Florida, Texas, and Ohio have the most gun violence incidents"
   ]
  },
  {
   "cell_type": "code",
   "execution_count": null,
   "id": "f20c104a-0acc-4fe0-88d4-5fed7b942c00",
   "metadata": {},
   "outputs": [],
   "source": [
    "# Checking unique values and counts for 'address' column\n",
    "address_counts = df['address'].value_counts()\n",
    "print(address_counts)"
   ]
  },
  {
   "cell_type": "markdown",
   "id": "1a9a6da8-d142-41f9-886c-f34a20874afd",
   "metadata": {},
   "source": [
    "##### There appear to be some addresses/locations that have repeated incidents of gun violence. Should be investigated more"
   ]
  },
  {
   "cell_type": "code",
   "execution_count": null,
   "id": "476bc0d4-7716-4d61-a229-2915719c5bf8",
   "metadata": {},
   "outputs": [],
   "source": [
    "# Checking unique values and counts for 'incident_characteristics' column\n",
    "incident_characteristics_counts = df['incident_characteristics'].value_counts()\n",
    "print(incident_characteristics_counts)"
   ]
  },
  {
   "cell_type": "code",
   "execution_count": null,
   "id": "08ff8fe9-beb8-47e6-a607-500a30d2dcf0",
   "metadata": {},
   "outputs": [],
   "source": [
    "# Checking for outliers or inconsistencies in latitude and longitude columns\n",
    "plt.scatter(df['longitude'], df['latitude'])\n",
    "plt.xlabel('Longitude')\n",
    "plt.ylabel('Latitude')\n",
    "plt.show()"
   ]
  },
  {
   "cell_type": "code",
   "execution_count": null,
   "id": "75e9af20-135f-457b-ab7d-5eee20dd7757",
   "metadata": {},
   "outputs": [],
   "source": [
    "# Checking for negative values in victim counts to make sure there are no anomalies.\n",
    "negative_victims = df[(df['n_killed'] < 0) | (df['n_injured'] < 0)]\n",
    "print(\"Rows with negative victim counts:\", len(negative_victims))"
   ]
  },
  {
   "cell_type": "code",
   "execution_count": null,
   "id": "9f36479c-97c4-4e41-a6e4-a591bcde1e2f",
   "metadata": {},
   "outputs": [],
   "source": [
    "# Checking consistency between 'n_killed' and 'n_injured' columns\n",
    "inconsistencies = df[df['n_killed'] > df['n_injured']]\n",
    "print(\"Rows with inconsistencies:\", len(inconsistencies))"
   ]
  },
  {
   "cell_type": "markdown",
   "id": "f48738fc-5cbb-45ad-b3bd-ca6f4fed997e",
   "metadata": {},
   "source": [
    "##### This check allows to see how many rows there are with more n_killed than n_injured. Usually, number of people injured would be greater than those killed. Having 45,887 rows with n_killed > n_injured is a quite large number. It will definitely need to be investigated"
   ]
  },
  {
   "cell_type": "code",
   "execution_count": null,
   "id": "ffb636e3-9ab1-4ae5-8b72-3fcd6b9c8500",
   "metadata": {},
   "outputs": [],
   "source": [
    "# summary statistics of n_killed and n_injured \n",
    "print(df[['n_killed', 'n_injured']].describe())"
   ]
  },
  {
   "cell_type": "code",
   "execution_count": null,
   "id": "8e4804bc-876b-4888-a46d-529a7f1a5c9e",
   "metadata": {},
   "outputs": [],
   "source": [
    "#examining rows where n_killed > n_injured\n",
    "inconsistent_rows = df[df['n_killed'] > df['n_injured']]\n",
    "print(inconsistent_rows.head())"
   ]
  },
  {
   "cell_type": "markdown",
   "id": "d55e2b7a-bc9f-4c32-942b-96936f9b7cf0",
   "metadata": {},
   "source": [
    "##### The inconsistent rows seem to not be including n_killed in total n_injured. It seems like this dataframe is keeping n_killed and n_injured as seperate numbers and not considering killed persons injured"
   ]
  },
  {
   "cell_type": "markdown",
   "id": "c3cb3bbb-373d-4944-abb6-e8ad4af7214c",
   "metadata": {},
   "source": [
    "### 03. Cleaning Data"
   ]
  },
  {
   "cell_type": "code",
   "execution_count": null,
   "id": "16fa87ba-a895-432d-8e23-7cd30be5573c",
   "metadata": {},
   "outputs": [],
   "source": [
    "df.head()"
   ]
  },
  {
   "cell_type": "code",
   "execution_count": null,
   "id": "ed6d1514-437e-4a20-8905-23316b0fa966",
   "metadata": {},
   "outputs": [],
   "source": [
    "# Dropping unnecessary columns \n",
    "df.drop(['source_url','incident_url','incident_url_fields_missing','gun_stolen','participant_name','sources','state_house_district','state_senate_district'], axis = 1, inplace = True)"
   ]
  },
  {
   "cell_type": "code",
   "execution_count": null,
   "id": "1bfb557d-c46b-49f6-b4a2-81402c167fbf",
   "metadata": {},
   "outputs": [],
   "source": [
    "df.head()"
   ]
  },
  {
   "cell_type": "code",
   "execution_count": null,
   "id": "ea28f102-0ba5-49be-b8e3-70a6bc44a70f",
   "metadata": {},
   "outputs": [],
   "source": [
    "df.columns.values"
   ]
  },
  {
   "cell_type": "code",
   "execution_count": null,
   "id": "a9508f73-55e4-47a7-ba45-9710f1ed5bf3",
   "metadata": {},
   "outputs": [],
   "source": [
    "# Updating date columns to datetime\n",
    "df[['date']] = df[['date']].astype('datetime64[ns]')"
   ]
  },
  {
   "cell_type": "code",
   "execution_count": null,
   "id": "2a5b1631-dbac-43a4-b9d3-903396069b9d",
   "metadata": {},
   "outputs": [],
   "source": [
    "# Updating 'str' relevant columns that were saved as object\n",
    "df[['incident_id']] = df[['incident_id']].astype('str')"
   ]
  },
  {
   "cell_type": "code",
   "execution_count": null,
   "id": "14ce493c-6a8c-4c31-9ef3-de3cf0ce5ce9",
   "metadata": {},
   "outputs": [],
   "source": [
    "# Updating selected columns to 'category' data type\n",
    "columns_to_category = ['state', 'city_or_county', 'gun_type', 'incident_characteristics', 'location_description', 'notes', 'participant_age_group', 'participant_gender', 'participant_relationship', 'participant_status', 'participant_type']\n",
    "\n",
    "df[columns_to_category] = df[columns_to_category].astype('category')"
   ]
  },
  {
   "cell_type": "code",
   "execution_count": null,
   "id": "6b912b45-fcd5-46fe-bce2-ee4e35b12763",
   "metadata": {},
   "outputs": [],
   "source": [
    "df.info()"
   ]
  },
  {
   "cell_type": "markdown",
   "id": "45de4a6a-8315-4b27-ab19-c80bd52d1508",
   "metadata": {},
   "source": [
    "### 04. Exporting Dataframe"
   ]
  },
  {
   "cell_type": "code",
   "execution_count": null,
   "id": "230c0ec3-e098-4787-b1b5-421bb7ca3964",
   "metadata": {},
   "outputs": [],
   "source": [
    "# exporting df to csv\n",
    "df.to_csv(os.path.join(path, '02 Data', 'Prepared Data',\n",
    "'6.1_gun_violence_cleaned.csv'))"
   ]
  },
  {
   "cell_type": "code",
   "execution_count": null,
   "id": "4a7fa099-3a67-489d-9ce3-f9c1e3bc352d",
   "metadata": {},
   "outputs": [],
   "source": []
  }
 ],
 "metadata": {
  "kernelspec": {
   "display_name": "Python 3 (ipykernel)",
   "language": "python",
   "name": "python3"
  },
  "language_info": {
   "codemirror_mode": {
    "name": "ipython",
    "version": 3
   },
   "file_extension": ".py",
   "mimetype": "text/x-python",
   "name": "python",
   "nbconvert_exporter": "python",
   "pygments_lexer": "ipython3",
   "version": "3.12.3"
  }
 },
 "nbformat": 4,
 "nbformat_minor": 5
}
